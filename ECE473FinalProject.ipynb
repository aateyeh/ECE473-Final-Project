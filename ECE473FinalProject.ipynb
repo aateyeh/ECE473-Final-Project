{
 "cells": [
  {
   "cell_type": "code",
   "execution_count": 22,
   "id": "e95ec908",
   "metadata": {},
   "outputs": [],
   "source": [
    "import praw\n",
    "import requests\n",
    "import pandas as pd\n",
    "import time\n",
    "from vaderSentiment.vaderSentiment import SentimentIntensityAnalyzer"
   ]
  },
  {
   "cell_type": "code",
   "execution_count": 23,
   "id": "f50aa4c8-863e-49be-b9d4-a3889a39cca0",
   "metadata": {},
   "outputs": [],
   "source": [
    "REDDIT_CLIENT_ID = \"suCjVen6MTRiU9E88cqRAg\"\n",
    "REDDIT_CLIENT_SECRET = \"UiP81w6C1qyenfZzJ0asiegtJlQtZA\"\n",
    "REDDIT_USER_AGENT = \"ECE473 Final Project\"\n",
    "\n",
    "# 🔹 Initialize Reddit API\n",
    "reddit = praw.Reddit(\n",
    "    client_id=REDDIT_CLIENT_ID,\n",
    "    client_secret=REDDIT_CLIENT_SECRET,\n",
    "    user_agent=REDDIT_USER_AGENT\n",
    ")\n",
    "\n",
    "# 🔹 Subreddits to Scrape\n",
    "subreddits = [\"NFT\", \"CryptoCurrency\", \"OpenSea\", \"NFTsMarketplace\"]\n",
    "# 🔹 Target NFT Collections for Sentiment Analysis\n",
    "nft_collections = [\n",
    "    \"Bored Ape Yacht Club\", \"BAYC\", \"Mutant Ape Yacht Club\", \"MAYC\",\n",
    "    \"Pudgy Penguins\", \"Azuki\", \"Doodles\", \"CloneX\", \"Moonbirds\",\n",
    "    \"Otherdeed\", \"Milady\", \"CryptoPunks\"\n",
    "]\n",
    "\n",
    "\n",
    "# 🔹 Function to Scrape Posts\n",
    "def scrape_reddit_posts(limit=50):\n",
    "    nft_posts = {collection: [] for collection in nft_collections}  # Store by collection\n",
    "\n",
    "    for subreddit in subreddits:\n",
    "        try:\n",
    "            for post in reddit.subreddit(subreddit).new(limit=limit):\n",
    "                for collection in nft_collections:\n",
    "                    if collection.lower() in (post.title + \" \" + post.selftext).lower():\n",
    "                        nft_posts[collection].append({\n",
    "                            \"title\": post.title,\n",
    "                            \"text\": post.selftext,\n",
    "                            \"url\": post.url,\n",
    "                            \"score\": post.score,\n",
    "                            \"created_utc\": post.created_utc,\n",
    "                            \"subreddit\": subreddit\n",
    "                        })\n",
    "            time.sleep(1)  # Prevent rate limits\n",
    "        except Exception as e:\n",
    "            print(f\"Error scraping {subreddit}: {e}\")\n",
    "\n",
    "    return nft_posts  # Returns a dictionary of collections with their respective posts\n",
    "\n",
    "# 🔹 Scrape and Save Data\n",
    "nft_data = scrape_reddit_posts(limit=100)  # Get 100 posts per subreddit\n",
    "\n"
   ]
  },
  {
   "cell_type": "code",
   "execution_count": 24,
   "id": "8461f998-a1e1-435e-9a08-aaa96938943f",
   "metadata": {},
   "outputs": [
    {
     "name": "stdout",
     "output_type": "stream",
     "text": [
      "{'Mutant Ape Yacht Club': 0.0, 'Pudgy Penguins': 0.0, 'Azuki': 0.0, 'Doodles': 0.3535, 'Milady': 0.0}\n"
     ]
    }
   ],
   "source": [
    "# Initialize VADER\n",
    "analyzer = SentimentIntensityAnalyzer()\n",
    "\n",
    "def analyze_sentiment_by_collection(posts_dict):\n",
    "    collection_sentiments = {}\n",
    "\n",
    "    for collection, posts in posts_dict.items():\n",
    "        if not posts:\n",
    "            continue  # Skip if no mentions\n",
    "\n",
    "        scores = [analyzer.polarity_scores(post[\"title\"])[\"compound\"] for post in posts]\n",
    "        avg_sentiment = sum(scores) / len(scores) if scores else 0\n",
    "\n",
    "        collection_sentiments[collection] = avg_sentiment\n",
    "\n",
    "    return collection_sentiments\n",
    "\n",
    "# Run sentiment analysis\n",
    "nft_sentiments = analyze_sentiment_by_collection(nft_data)\n",
    "\n",
    "# Show results\n",
    "print(nft_sentiments)\n"
   ]
  },
  {
   "cell_type": "code",
   "execution_count": 19,
   "id": "6e6c5d8b-f283-43d2-b0ea-9875701fa220",
   "metadata": {},
   "outputs": [],
   "source": [
    "def get_nftperp_index_price(collection: str):\n",
    "    \"\"\"Fetches the index price of an NFT collection from NFTPerp.\"\"\"\n",
    "    url = f\"https://api.nftperp.xyz/index-price/{collection}\"\n",
    "    response = requests.get(url)\n",
    "    \n",
    "    if response.status_code == 200:\n",
    "        data = response.json()\n",
    "        return data.get(\"indexPrice\")\n",
    "    else:\n",
    "        print(f\"Error fetching NFTPerp data: {response.text}\")\n",
    "        return None\n"
   ]
  },
  {
   "cell_type": "code",
   "execution_count": 28,
   "id": "2ff5ffb7",
   "metadata": {},
   "outputs": [
    {
     "name": "stdout",
     "output_type": "stream",
     "text": [
      "Trade decision for Mutant Ape Yacht Club: HOLD\n",
      "Trade decision for Pudgy Penguins: HOLD\n",
      "Trade decision for Azuki: HOLD\n",
      "Trade decision for Doodles: LONG\n",
      "Trade decision for Milady: HOLD\n"
     ]
    }
   ],
   "source": [
    "def determine_trade_action(nft_collection, sentiment_score):\n",
    "    \"\"\"Determines whether to long or short an NFT collection based on sentiment score.\"\"\"\n",
    "    \n",
    "    threshold = 0.05  # Adjust this based on testing\n",
    "    \n",
    "    if sentiment_score > threshold:\n",
    "        return \"LONG\"\n",
    "    elif sentiment_score < -threshold:\n",
    "        return \"SHORT\"\n",
    "    else:\n",
    "        return \"HOLD\"\n",
    "\n",
    "nft_data = scrape_reddit_posts(limit=100)  # Scrape posts per collection\n",
    "nft_sentiments = analyze_sentiment_by_collection(nft_data)  # Get sentiment per collection\n",
    "\n",
    "for collection, sentiment_score in nft_sentiments.items():\n",
    "    trade_action = determine_trade_action(collection, sentiment_score)\n",
    "    print(f\"Trade decision for {collection}: {trade_action}\")"
   ]
  },
  {
   "cell_type": "code",
   "execution_count": null,
   "id": "6b2546be",
   "metadata": {},
   "outputs": [],
   "source": []
  }
 ],
 "metadata": {
  "kernelspec": {
   "display_name": "Python 3",
   "language": "python",
   "name": "python3"
  },
  "language_info": {
   "codemirror_mode": {
    "name": "ipython",
    "version": 3
   },
   "file_extension": ".py",
   "mimetype": "text/x-python",
   "name": "python",
   "nbconvert_exporter": "python",
   "pygments_lexer": "ipython3",
   "version": "3.11.5"
  }
 },
 "nbformat": 4,
 "nbformat_minor": 5
}
